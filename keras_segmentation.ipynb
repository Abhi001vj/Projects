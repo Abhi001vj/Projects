{
  "nbformat": 4,
  "nbformat_minor": 0,
  "metadata": {
    "colab": {
      "name": "Untitled0.ipynb",
      "version": "0.3.2",
      "provenance": [],
      "include_colab_link": true
    }
  },
  "cells": [
    {
      "cell_type": "markdown",
      "metadata": {
        "id": "view-in-github",
        "colab_type": "text"
      },
      "source": [
        "[View in Colaboratory](https://colab.research.google.com/github/Abhi001vj/Projects/blob/master/keras_segmentation.ipynb)"
      ]
    },
    {
      "metadata": {
        "id": "WhkrUQadCLBX",
        "colab_type": "code",
        "colab": {
          "base_uri": "https://localhost:8080/",
          "height": 102
        },
        "outputId": "7898dc2c-2e2c-43fe-e9f1-f70f2eff4363"
      },
      "cell_type": "code",
      "source": [
        "! git clone https://github.com/fastai/courses.git "
      ],
      "execution_count": 1,
      "outputs": [
        {
          "output_type": "stream",
          "text": [
            "Cloning into 'courses'...\n",
            "remote: Counting objects: 765, done.\u001b[K\n",
            "remote: Total 765 (delta 0), reused 0 (delta 0), pack-reused 765\u001b[K\n",
            "Receiving objects: 100% (765/765), 22.40 MiB | 35.89 MiB/s, done.\n",
            "Resolving deltas: 100% (409/409), done.\n"
          ],
          "name": "stdout"
        }
      ]
    },
    {
      "metadata": {
        "id": "kHCmh1ASCbvY",
        "colab_type": "code",
        "colab": {}
      },
      "cell_type": "code",
      "source": [
        "%matplotlib inline\n",
        "import importlib\n",
        "import utils2; importlib.reload(utils2)\n",
        "from utils2 import *\n",
        "\n",
        "import warnings\n",
        "\n",
        "warnings.filterwarnings(\"ignore\",category=DeprecationWarning)\n",
        "\n",
        "limit_mem()"
      ],
      "execution_count": 0,
      "outputs": []
    },
    {
      "metadata": {
        "id": "LINUhZ6bDCeW",
        "colab_type": "code",
        "colab": {}
      },
      "cell_type": "code",
      "source": [
        "\n",
        "classclass  BatchIndicesBatchInd (object):\n",
        "    def __init__(self, n, bs, shuffle=False):\n",
        "        self.n,self.bs,self.shuffle = n,bs,shuffle\n",
        "        self.lock = threading.Lock()\n",
        "        self.reset()\n",
        "\n",
        "    def reset(self):\n",
        "        self.idxs = (np.random.permutation(self.n) \n",
        "                     if self.shuffle else np.arange(0, self.n))\n",
        "        self.curr = 0\n",
        "\n",
        "    def __next__(self):\n",
        "        with self.lock:\n",
        "            if self.curr >= self.n: self.reset()\n",
        "            ni = min(self.bs, self.n-self.curr)\n",
        "            res = self.idxs[self.curr:self.curr+ni]\n",
        "            self.curr += ni\n",
        "            return res"
      ],
      "execution_count": 0,
      "outputs": []
    },
    {
      "metadata": {
        "id": "Q00JwtOADI9T",
        "colab_type": "text"
      },
      "cell_type": "markdown",
      "source": [
        ""
      ]
    },
    {
      "metadata": {
        "id": "vT5Im4ymDJfF",
        "colab_type": "code",
        "colab": {}
      },
      "cell_type": "code",
      "source": [
        "class segm_generator(object):\n",
        "    def __init__(self, x, y, bs=64, out_sz=(224,224), train=True):\n",
        "        self.x, self.y, self.bs, self.train = x,y,bs,train\n",
        "        self.n, self.ri, self.ci, _ = x.shape\n",
        "        self.idx_gen = BatchIndices(self.n, bs, train)\n",
        "        self.ro, self.co = out_sz\n",
        "        self.ych = self.y.shape[-1] if len(y.shape)==4 else 1\n",
        "\n",
        "    def get_slice(self, i,o):\n",
        "        start = random.randint(0, i-o) if self.train else (i-o)\n",
        "        return slice(start, start+o)\n",
        "\n",
        "    def get_item(self, idx):\n",
        "        slice_r = self.get_slice(self.ri, self.ro)\n",
        "        slice_c = self.get_slice(self.ci, self.co)\n",
        "        x = self.x[idx, slice_r, slice_c]\n",
        "        y = self.y[idx, slice_r, slice_c]\n",
        "        if self.train and (random.random()>0.5): \n",
        "            y = y[:,::-1]\n",
        "            x = x[:,::-1]\n",
        "        return x, y\n",
        "\n",
        "    def __next__(self):\n",
        "        idxs = next(self.idx_gen)\n",
        "        items = (self.get_item(idx) for idx in idxs)\n",
        "        xs,ys = zip(*items)\n",
        "        return np.stack(xs), np.stack(ys).reshape(len(ys), -1, self.ych)"
      ],
      "execution_count": 0,
      "outputs": []
    },
    {
      "metadata": {
        "id": "le061v8ZDQw7",
        "colab_type": "code",
        "colab": {}
      },
      "cell_type": "code",
      "source": [
        "sg = segm_generator(imgs, labels, 4, train=False)\n",
        "b_img, b_label = next(sg)\n",
        "plt.imshow(b_img[0]*0.3+0.4"
      ],
      "execution_count": 0,
      "outputs": []
    },
    {
      "metadata": {
        "id": "fK5m6ZbkDXR_",
        "colab_type": "code",
        "colab": {}
      },
      "cell_type": "code",
      "source": [
        "sg = segm_generator(imgs, labels, 4, train=True)\n",
        "b_img, b_label = next(sg)\n",
        "plt.imshow(b_img[0]*0.3+0.4);"
      ],
      "execution_count": 0,
      "outputs": []
    },
    {
      "metadata": {
        "id": "ooFZrDjQDmIp",
        "colab_type": "code",
        "colab": {}
      },
      "cell_type": "code",
      "source": [
        "def relu(x): return Activation('relu')(x)\n",
        "def dropout(x, p): return Dropout(p)(x) if p else x\n",
        "def bn(x): return BatchNormalization(mode=2, axis=-1)(x)\n",
        "def relu_bn(x): return relu(bn(x))\n",
        "def concat(xs): return merge(xs, mode='concat', concat_axis=-1)"
      ],
      "execution_count": 0,
      "outputs": []
    },
    {
      "metadata": {
        "id": "MUdeCXPIDoZs",
        "colab_type": "code",
        "colab": {}
      },
      "cell_type": "code",
      "source": [
        "def conv(x, nf, sz, wd, p, stride=1): \n",
        "    x = Convolution2D(nf, sz, sz, init='he_uniform', border_mode='same', \n",
        "                      subsample=(stride,stride), W_regularizer=l2(wd))(x)\n",
        "    return dropout(x, p)\n",
        "\n",
        "def conv_relu_bn(x, nf, sz=3, wd=0, p=0, stride=1): \n",
        "    return conv(relu_bn(x), nf, sz, wd=wd, p=p, stride=stride)\n"
      ],
      "execution_count": 0,
      "outputs": []
    },
    {
      "metadata": {
        "id": "L1FCJ4JHDvgZ",
        "colab_type": "code",
        "colab": {}
      },
      "cell_type": "code",
      "source": [
        "def dense_block(n,x,growth_rate,p,wd):\n",
        "    added = []\n",
        "    for i in range(n):\n",
        "        b = conv_relu_bn(x, growth_rate, p=p, wd=wd)\n",
        "        x = concat([x, b])\n",
        "        added.append(b)\n",
        "    return x,added"
      ],
      "execution_count": 0,
      "outputs": []
    },
    {
      "metadata": {
        "id": "w6FZpY73D3vV",
        "colab_type": "code",
        "colab": {}
      },
      "cell_type": "code",
      "source": [
        "def transition_dn(x, p, wd):\n",
        "#     x = conv_relu_bn(x, x.get_shape().as_list()[-1], sz=1, p=p, wd=wd)\n",
        "#     return MaxPooling2D(strides=(2, 2))(x)\n",
        "    return conv_relu_bn(x, x.get_shape().as_list()[-1], sz=1, p=p, wd=wd, stride=2)"
      ],
      "execution_count": 0,
      "outputs": []
    },
    {
      "metadata": {
        "id": "cMjpReYBD7ON",
        "colab_type": "code",
        "colab": {}
      },
      "cell_type": "code",
      "source": [
        "def down_path(x, nb_layers, growth_rate, p, wd):\n",
        "    skips = []\n",
        "    for i,n in enumerate(nb_layers):\n",
        "        x,added = dense_block(n,x,growth_rate,p,wd)\n",
        "        skips.append(x)\n",
        "        x = transition_dn(x, p=p, wd=wd)\n",
        "    return skips, added"
      ],
      "execution_count": 0,
      "outputs": []
    },
    {
      "metadata": {
        "id": "xuurZMHSD_qN",
        "colab_type": "code",
        "colab": {}
      },
      "cell_type": "code",
      "source": [
        "def transition_up(added, wd=0):\n",
        "    x = concat(added)\n",
        "    _,r,c,ch = x.get_shape().as_list()\n",
        "    return Deconvolution2D(ch, 3, 3, (None,r*2,c*2,ch), init='he_uniform', \n",
        "               border_mode='same', subsample=(2,2), W_regularizer=l2(wd))(x)\n",
        "#     x = UpSampling2D()(x)\n",
        "#     return conv(x, ch, 2, wd, 0)"
      ],
      "execution_count": 0,
      "outputs": []
    },
    {
      "metadata": {
        "id": "3G_oK5niEDyY",
        "colab_type": "code",
        "colab": {}
      },
      "cell_type": "code",
      "source": [
        "def up_path(added, skips, nb_layers, growth_rate, p, wd):\n",
        "    for i,n in enumerate(nb_layers):\n",
        "        x = transition_up(added, wd)\n",
        "        x = concat([x,skips[i]])\n",
        "        x,added = dense_block(n,x,growth_rate,p,wd)\n",
        "    return x"
      ],
      "execution_count": 0,
      "outputs": []
    },
    {
      "metadata": {
        "id": "KzmjbnafEGOS",
        "colab_type": "code",
        "colab": {}
      },
      "cell_type": "code",
      "source": [
        "def reverse(a): return list(reversed(a))"
      ],
      "execution_count": 0,
      "outputs": []
    },
    {
      "metadata": {
        "id": "SKBybLIWEKHB",
        "colab_type": "code",
        "colab": {}
      },
      "cell_type": "code",
      "source": [
        "def create_tiramisu(nb_classes, img_input, nb_dense_block=6, \n",
        "    growth_rate=16, nb_filter=48, nb_layers_per_block=5, p=None, wd=0):\n",
        "    \n",
        "    if type(nb_layers_per_block) is list or type(nb_layers_per_block) is tuple:\n",
        "        nb_layers = list(nb_layers_per_block)\n",
        "    else: nb_layers = [nb_layers_per_block] * nb_dense_block\n",
        "\n",
        "    x = conv(img_input, nb_filter, 3, wd, 0)\n",
        "    skips,added = down_path(x, nb_layers, growth_rate, p, wd)\n",
        "    x = up_path(added, reverse(skips[:-1]), reverse(nb_layers[:-1]), growth_rate, p, wd)\n",
        "    \n",
        "    x = conv(x, nb_classes, 1, wd, 0)\n",
        "    _,r,c,f = x.get_shape().as_list()\n",
        "    x = Reshape((-1, nb_classes))(x)\n",
        "    return Activation('softmax')(x)"
      ],
      "execution_count": 0,
      "outputs": []
    },
    {
      "metadata": {
        "id": "1LtuMkDZErLR",
        "colab_type": "code",
        "colab": {}
      },
      "cell_type": "code",
      "source": [
        "limit_mem()"
      ],
      "execution_count": 0,
      "outputs": []
    },
    {
      "metadata": {
        "id": "9BMza2B9ErRI",
        "colab_type": "code",
        "colab": {}
      },
      "cell_type": "code",
      "source": [
        "\n",
        "input_shapeinput_sha  = (224,224,3)"
      ],
      "execution_count": 0,
      "outputs": []
    },
    {
      "metadata": {
        "id": "s-o68uOPErUq",
        "colab_type": "code",
        "colab": {}
      },
      "cell_type": "code",
      "source": [
        "img_input = Input(shape=input_shape)"
      ],
      "execution_count": 0,
      "outputs": []
    },
    {
      "metadata": {
        "id": "inuKTA68ErYg",
        "colab_type": "code",
        "colab": {}
      },
      "cell_type": "code",
      "source": [
        "x = create_tiramisu(12, img_input, nb_layers_per_block=[4,5,7,10,12,15], p=0.2, wd=1e-4)"
      ],
      "execution_count": 0,
      "outputs": []
    },
    {
      "metadata": {
        "id": "aWM2s53UErb9",
        "colab_type": "code",
        "colab": {}
      },
      "cell_type": "code",
      "source": [
        "model = Model(img_input, x)"
      ],
      "execution_count": 0,
      "outputs": []
    },
    {
      "metadata": {
        "id": "szSXigIAErfL",
        "colab_type": "code",
        "colab": {}
      },
      "cell_type": "code",
      "source": [
        "gen = segm_generator(trn, trn_labels, 3, train=True)"
      ],
      "execution_count": 0,
      "outputs": []
    },
    {
      "metadata": {
        "id": "0waHDuOeErix",
        "colab_type": "code",
        "colab": {}
      },
      "cell_type": "code",
      "source": [
        "gen_test = segm_generator(test, test_labels, 3, train=False)"
      ],
      "execution_count": 0,
      "outputs": []
    },
    {
      "metadata": {
        "id": "0Ir1o9_rErlv",
        "colab_type": "code",
        "colab": {}
      },
      "cell_type": "code",
      "source": [
        "model.compile(loss='sparse_categorical_crossentropy', \n",
        "              optimizer=keras.optimizers.RMSprop(1e-3), metrics=[\"accuracy\"])"
      ],
      "execution_count": 0,
      "outputs": []
    },
    {
      "metadata": {
        "id": "iP062nBfErsP",
        "colab_type": "code",
        "colab": {}
      },
      "cell_type": "code",
      "source": [
        "\n",
        "modelmodel..optimizeroptimizer=keras.optimizers.RMSprop(1e-3, decay=1-0.99995)"
      ],
      "execution_count": 0,
      "outputs": []
    },
    {
      "metadata": {
        "id": "rDvlLLb3Ervu",
        "colab_type": "code",
        "colab": {}
      },
      "cell_type": "code",
      "source": [
        "model.optimizer=keras.optimizers.RMSprop(1e-3)"
      ],
      "execution_count": 0,
      "outputs": []
    },
    {
      "metadata": {
        "id": "CEJKyh7oFQvc",
        "colab_type": "code",
        "colab": {}
      },
      "cell_type": "code",
      "source": [
        "K.set_value(model.optimizer.lr, 1e-3)"
      ],
      "execution_count": 0,
      "outputs": []
    },
    {
      "metadata": {
        "id": "etux83ZpFQz3",
        "colab_type": "code",
        "colab": {}
      },
      "cell_type": "code",
      "source": [
        "model.fit_generator(gen, rnd_trn, 100, verbose=2, \n",
        "                    validation_data=gen_test, nb_val_samples=rnd_test)"
      ],
      "execution_count": 0,
      "outputs": []
    },
    {
      "metadata": {
        "id": "Cm0V6FKHFQ3b",
        "colab_type": "code",
        "colab": {}
      },
      "cell_type": "code",
      "source": [
        ""
      ],
      "execution_count": 0,
      "outputs": []
    },
    {
      "metadata": {
        "id": "Q4lrRIYDFQ9x",
        "colab_type": "code",
        "colab": {}
      },
      "cell_type": "code",
      "source": [
        ""
      ],
      "execution_count": 0,
      "outputs": []
    }
  ]
}